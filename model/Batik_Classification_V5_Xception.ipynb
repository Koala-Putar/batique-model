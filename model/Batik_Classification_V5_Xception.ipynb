{
  "nbformat": 4,
  "nbformat_minor": 0,
  "metadata": {
    "colab": {
      "name": "Batik Classification V5 - Xception.ipynb",
      "provenance": [],
      "collapsed_sections": []
    },
    "kernelspec": {
      "name": "python3",
      "display_name": "Python 3"
    },
    "language_info": {
      "name": "python"
    },
    "accelerator": "GPU"
  },
  "cells": [
    {
      "cell_type": "code",
      "metadata": {
        "colab": {
          "base_uri": "https://localhost:8080/"
        },
        "id": "zr9o-xBNQH0I",
        "outputId": "c269c5f9-4a87-4ec0-8a82-649a6eb3c9ff"
      },
      "source": [
        "from google.colab import drive\n",
        "drive.mount('/content/gdrive')"
      ],
      "execution_count": 1,
      "outputs": [
        {
          "output_type": "stream",
          "text": [
            "Mounted at /content/gdrive\n"
          ],
          "name": "stdout"
        }
      ]
    },
    {
      "cell_type": "code",
      "metadata": {
        "id": "OqdF9_AxwG-L"
      },
      "source": [
        "import numpy as np\n",
        "from google.colab import files\n",
        "from keras.preprocessing import image\n",
        "import matplotlib.pyplot as plt\n",
        "import tensorflow as tf\n",
        "from tensorflow.keras.preprocessing.image import ImageDataGenerator"
      ],
      "execution_count": 2,
      "outputs": []
    },
    {
      "cell_type": "code",
      "metadata": {
        "id": "ulAHiyQnwIGp"
      },
      "source": [
        "data_dir = \"/content/gdrive/MyDrive/Batik Dataset Enhanched/Batik\""
      ],
      "execution_count": 3,
      "outputs": []
    },
    {
      "cell_type": "code",
      "metadata": {
        "id": "s_C-T0sWQ3R5"
      },
      "source": [
        "train_datagen = ImageDataGenerator(rescale=1./255,\n",
        "                                   rotation_range=270,\n",
        "                                   zoom_range=0.2,\n",
        "                                   width_shift_range=0.15,\n",
        "                                   height_shift_range=0.15,\n",
        "                                   shear_range=0.2,\n",
        "                                   horizontal_flip=True,\n",
        "                                   vertical_flip=True,\n",
        "                                   fill_mode='wrap',\n",
        "                                   validation_split=0.25)\n"
      ],
      "execution_count": 4,
      "outputs": []
    },
    {
      "cell_type": "code",
      "metadata": {
        "colab": {
          "base_uri": "https://localhost:8080/"
        },
        "id": "4Rnbqkv1Q65W",
        "outputId": "b6da121b-565b-4e40-edca-58166d552c94"
      },
      "source": [
        "train_generator = train_datagen.flow_from_directory(data_dir,\n",
        "                                                    target_size=(224,224),\n",
        "                                                    shuffle=True,\n",
        "                                                    color_mode='rgb',\n",
        "                                                    class_mode='categorical',\n",
        "                                                    subset='training')\n",
        "\n",
        "validation_generator = train_datagen.flow_from_directory(data_dir,\n",
        "                                                         target_size=(224, 224),\n",
        "                                                         shuffle=False,\n",
        "                                                         color_mode='rgb',\n",
        "                                                         class_mode='categorical',\n",
        "                                                         subset='validation')"
      ],
      "execution_count": 5,
      "outputs": [
        {
          "output_type": "stream",
          "text": [
            "Found 761 images belonging to 20 classes.\n",
            "Found 240 images belonging to 20 classes.\n"
          ],
          "name": "stdout"
        }
      ]
    },
    {
      "cell_type": "code",
      "metadata": {
        "id": "Kq6I4dw_Q-BF",
        "colab": {
          "base_uri": "https://localhost:8080/"
        },
        "outputId": "0a711bcb-c286-4cf8-bdac-0d46d5c46e32"
      },
      "source": [
        "from tensorflow.keras import layers\n",
        "from tensorflow.keras import Model\n",
        "\n",
        "base_model = tf.keras.applications.Xception(\n",
        "    include_top=False, weights='imagenet', pooling=\"max\",\n",
        "    classifier_activation=None\n",
        ")\n",
        "\n",
        "\"\"\"for layer in base_model.layers[:-1]:\n",
        "    model.add(layer)    \"\"\"\n",
        "\n",
        "# Freeze the layers \n",
        "for layer in base_model.layers:\n",
        "    layer.trainable = False\n",
        "\n",
        "x = layers.Flatten()(base_model.output)\n",
        "x = layers.Dense(1024, activation='relu')(x)\n",
        "x = layers.Dropout(0.3)(x)                  \n",
        "x = layers.Dense  (20, activation='softmax', kernel_regularizer='l2')(x)           \n",
        "\n",
        "model = Model(base_model.input, x)\n",
        "\n",
        "model.summary()"
      ],
      "execution_count": 12,
      "outputs": [
        {
          "output_type": "stream",
          "text": [
            "Model: \"model_1\"\n",
            "__________________________________________________________________________________________________\n",
            "Layer (type)                    Output Shape         Param #     Connected to                     \n",
            "==================================================================================================\n",
            "input_4 (InputLayer)            [(None, None, None,  0                                            \n",
            "__________________________________________________________________________________________________\n",
            "block1_conv1 (Conv2D)           (None, None, None, 3 864         input_4[0][0]                    \n",
            "__________________________________________________________________________________________________\n",
            "block1_conv1_bn (BatchNormaliza (None, None, None, 3 128         block1_conv1[0][0]               \n",
            "__________________________________________________________________________________________________\n",
            "block1_conv1_act (Activation)   (None, None, None, 3 0           block1_conv1_bn[0][0]            \n",
            "__________________________________________________________________________________________________\n",
            "block1_conv2 (Conv2D)           (None, None, None, 6 18432       block1_conv1_act[0][0]           \n",
            "__________________________________________________________________________________________________\n",
            "block1_conv2_bn (BatchNormaliza (None, None, None, 6 256         block1_conv2[0][0]               \n",
            "__________________________________________________________________________________________________\n",
            "block1_conv2_act (Activation)   (None, None, None, 6 0           block1_conv2_bn[0][0]            \n",
            "__________________________________________________________________________________________________\n",
            "block2_sepconv1 (SeparableConv2 (None, None, None, 1 8768        block1_conv2_act[0][0]           \n",
            "__________________________________________________________________________________________________\n",
            "block2_sepconv1_bn (BatchNormal (None, None, None, 1 512         block2_sepconv1[0][0]            \n",
            "__________________________________________________________________________________________________\n",
            "block2_sepconv2_act (Activation (None, None, None, 1 0           block2_sepconv1_bn[0][0]         \n",
            "__________________________________________________________________________________________________\n",
            "block2_sepconv2 (SeparableConv2 (None, None, None, 1 17536       block2_sepconv2_act[0][0]        \n",
            "__________________________________________________________________________________________________\n",
            "block2_sepconv2_bn (BatchNormal (None, None, None, 1 512         block2_sepconv2[0][0]            \n",
            "__________________________________________________________________________________________________\n",
            "conv2d_12 (Conv2D)              (None, None, None, 1 8192        block1_conv2_act[0][0]           \n",
            "__________________________________________________________________________________________________\n",
            "block2_pool (MaxPooling2D)      (None, None, None, 1 0           block2_sepconv2_bn[0][0]         \n",
            "__________________________________________________________________________________________________\n",
            "batch_normalization_12 (BatchNo (None, None, None, 1 512         conv2d_12[0][0]                  \n",
            "__________________________________________________________________________________________________\n",
            "add_36 (Add)                    (None, None, None, 1 0           block2_pool[0][0]                \n",
            "                                                                 batch_normalization_12[0][0]     \n",
            "__________________________________________________________________________________________________\n",
            "block3_sepconv1_act (Activation (None, None, None, 1 0           add_36[0][0]                     \n",
            "__________________________________________________________________________________________________\n",
            "block3_sepconv1 (SeparableConv2 (None, None, None, 2 33920       block3_sepconv1_act[0][0]        \n",
            "__________________________________________________________________________________________________\n",
            "block3_sepconv1_bn (BatchNormal (None, None, None, 2 1024        block3_sepconv1[0][0]            \n",
            "__________________________________________________________________________________________________\n",
            "block3_sepconv2_act (Activation (None, None, None, 2 0           block3_sepconv1_bn[0][0]         \n",
            "__________________________________________________________________________________________________\n",
            "block3_sepconv2 (SeparableConv2 (None, None, None, 2 67840       block3_sepconv2_act[0][0]        \n",
            "__________________________________________________________________________________________________\n",
            "block3_sepconv2_bn (BatchNormal (None, None, None, 2 1024        block3_sepconv2[0][0]            \n",
            "__________________________________________________________________________________________________\n",
            "conv2d_13 (Conv2D)              (None, None, None, 2 32768       add_36[0][0]                     \n",
            "__________________________________________________________________________________________________\n",
            "block3_pool (MaxPooling2D)      (None, None, None, 2 0           block3_sepconv2_bn[0][0]         \n",
            "__________________________________________________________________________________________________\n",
            "batch_normalization_13 (BatchNo (None, None, None, 2 1024        conv2d_13[0][0]                  \n",
            "__________________________________________________________________________________________________\n",
            "add_37 (Add)                    (None, None, None, 2 0           block3_pool[0][0]                \n",
            "                                                                 batch_normalization_13[0][0]     \n",
            "__________________________________________________________________________________________________\n",
            "block4_sepconv1_act (Activation (None, None, None, 2 0           add_37[0][0]                     \n",
            "__________________________________________________________________________________________________\n",
            "block4_sepconv1 (SeparableConv2 (None, None, None, 7 188672      block4_sepconv1_act[0][0]        \n",
            "__________________________________________________________________________________________________\n",
            "block4_sepconv1_bn (BatchNormal (None, None, None, 7 2912        block4_sepconv1[0][0]            \n",
            "__________________________________________________________________________________________________\n",
            "block4_sepconv2_act (Activation (None, None, None, 7 0           block4_sepconv1_bn[0][0]         \n",
            "__________________________________________________________________________________________________\n",
            "block4_sepconv2 (SeparableConv2 (None, None, None, 7 536536      block4_sepconv2_act[0][0]        \n",
            "__________________________________________________________________________________________________\n",
            "block4_sepconv2_bn (BatchNormal (None, None, None, 7 2912        block4_sepconv2[0][0]            \n",
            "__________________________________________________________________________________________________\n",
            "conv2d_14 (Conv2D)              (None, None, None, 7 186368      add_37[0][0]                     \n",
            "__________________________________________________________________________________________________\n",
            "block4_pool (MaxPooling2D)      (None, None, None, 7 0           block4_sepconv2_bn[0][0]         \n",
            "__________________________________________________________________________________________________\n",
            "batch_normalization_14 (BatchNo (None, None, None, 7 2912        conv2d_14[0][0]                  \n",
            "__________________________________________________________________________________________________\n",
            "add_38 (Add)                    (None, None, None, 7 0           block4_pool[0][0]                \n",
            "                                                                 batch_normalization_14[0][0]     \n",
            "__________________________________________________________________________________________________\n",
            "block5_sepconv1_act (Activation (None, None, None, 7 0           add_38[0][0]                     \n",
            "__________________________________________________________________________________________________\n",
            "block5_sepconv1 (SeparableConv2 (None, None, None, 7 536536      block5_sepconv1_act[0][0]        \n",
            "__________________________________________________________________________________________________\n",
            "block5_sepconv1_bn (BatchNormal (None, None, None, 7 2912        block5_sepconv1[0][0]            \n",
            "__________________________________________________________________________________________________\n",
            "block5_sepconv2_act (Activation (None, None, None, 7 0           block5_sepconv1_bn[0][0]         \n",
            "__________________________________________________________________________________________________\n",
            "block5_sepconv2 (SeparableConv2 (None, None, None, 7 536536      block5_sepconv2_act[0][0]        \n",
            "__________________________________________________________________________________________________\n",
            "block5_sepconv2_bn (BatchNormal (None, None, None, 7 2912        block5_sepconv2[0][0]            \n",
            "__________________________________________________________________________________________________\n",
            "block5_sepconv3_act (Activation (None, None, None, 7 0           block5_sepconv2_bn[0][0]         \n",
            "__________________________________________________________________________________________________\n",
            "block5_sepconv3 (SeparableConv2 (None, None, None, 7 536536      block5_sepconv3_act[0][0]        \n",
            "__________________________________________________________________________________________________\n",
            "block5_sepconv3_bn (BatchNormal (None, None, None, 7 2912        block5_sepconv3[0][0]            \n",
            "__________________________________________________________________________________________________\n",
            "add_39 (Add)                    (None, None, None, 7 0           block5_sepconv3_bn[0][0]         \n",
            "                                                                 add_38[0][0]                     \n",
            "__________________________________________________________________________________________________\n",
            "block6_sepconv1_act (Activation (None, None, None, 7 0           add_39[0][0]                     \n",
            "__________________________________________________________________________________________________\n",
            "block6_sepconv1 (SeparableConv2 (None, None, None, 7 536536      block6_sepconv1_act[0][0]        \n",
            "__________________________________________________________________________________________________\n",
            "block6_sepconv1_bn (BatchNormal (None, None, None, 7 2912        block6_sepconv1[0][0]            \n",
            "__________________________________________________________________________________________________\n",
            "block6_sepconv2_act (Activation (None, None, None, 7 0           block6_sepconv1_bn[0][0]         \n",
            "__________________________________________________________________________________________________\n",
            "block6_sepconv2 (SeparableConv2 (None, None, None, 7 536536      block6_sepconv2_act[0][0]        \n",
            "__________________________________________________________________________________________________\n",
            "block6_sepconv2_bn (BatchNormal (None, None, None, 7 2912        block6_sepconv2[0][0]            \n",
            "__________________________________________________________________________________________________\n",
            "block6_sepconv3_act (Activation (None, None, None, 7 0           block6_sepconv2_bn[0][0]         \n",
            "__________________________________________________________________________________________________\n",
            "block6_sepconv3 (SeparableConv2 (None, None, None, 7 536536      block6_sepconv3_act[0][0]        \n",
            "__________________________________________________________________________________________________\n",
            "block6_sepconv3_bn (BatchNormal (None, None, None, 7 2912        block6_sepconv3[0][0]            \n",
            "__________________________________________________________________________________________________\n",
            "add_40 (Add)                    (None, None, None, 7 0           block6_sepconv3_bn[0][0]         \n",
            "                                                                 add_39[0][0]                     \n",
            "__________________________________________________________________________________________________\n",
            "block7_sepconv1_act (Activation (None, None, None, 7 0           add_40[0][0]                     \n",
            "__________________________________________________________________________________________________\n",
            "block7_sepconv1 (SeparableConv2 (None, None, None, 7 536536      block7_sepconv1_act[0][0]        \n",
            "__________________________________________________________________________________________________\n",
            "block7_sepconv1_bn (BatchNormal (None, None, None, 7 2912        block7_sepconv1[0][0]            \n",
            "__________________________________________________________________________________________________\n",
            "block7_sepconv2_act (Activation (None, None, None, 7 0           block7_sepconv1_bn[0][0]         \n",
            "__________________________________________________________________________________________________\n",
            "block7_sepconv2 (SeparableConv2 (None, None, None, 7 536536      block7_sepconv2_act[0][0]        \n",
            "__________________________________________________________________________________________________\n",
            "block7_sepconv2_bn (BatchNormal (None, None, None, 7 2912        block7_sepconv2[0][0]            \n",
            "__________________________________________________________________________________________________\n",
            "block7_sepconv3_act (Activation (None, None, None, 7 0           block7_sepconv2_bn[0][0]         \n",
            "__________________________________________________________________________________________________\n",
            "block7_sepconv3 (SeparableConv2 (None, None, None, 7 536536      block7_sepconv3_act[0][0]        \n",
            "__________________________________________________________________________________________________\n",
            "block7_sepconv3_bn (BatchNormal (None, None, None, 7 2912        block7_sepconv3[0][0]            \n",
            "__________________________________________________________________________________________________\n",
            "add_41 (Add)                    (None, None, None, 7 0           block7_sepconv3_bn[0][0]         \n",
            "                                                                 add_40[0][0]                     \n",
            "__________________________________________________________________________________________________\n",
            "block8_sepconv1_act (Activation (None, None, None, 7 0           add_41[0][0]                     \n",
            "__________________________________________________________________________________________________\n",
            "block8_sepconv1 (SeparableConv2 (None, None, None, 7 536536      block8_sepconv1_act[0][0]        \n",
            "__________________________________________________________________________________________________\n",
            "block8_sepconv1_bn (BatchNormal (None, None, None, 7 2912        block8_sepconv1[0][0]            \n",
            "__________________________________________________________________________________________________\n",
            "block8_sepconv2_act (Activation (None, None, None, 7 0           block8_sepconv1_bn[0][0]         \n",
            "__________________________________________________________________________________________________\n",
            "block8_sepconv2 (SeparableConv2 (None, None, None, 7 536536      block8_sepconv2_act[0][0]        \n",
            "__________________________________________________________________________________________________\n",
            "block8_sepconv2_bn (BatchNormal (None, None, None, 7 2912        block8_sepconv2[0][0]            \n",
            "__________________________________________________________________________________________________\n",
            "block8_sepconv3_act (Activation (None, None, None, 7 0           block8_sepconv2_bn[0][0]         \n",
            "__________________________________________________________________________________________________\n",
            "block8_sepconv3 (SeparableConv2 (None, None, None, 7 536536      block8_sepconv3_act[0][0]        \n",
            "__________________________________________________________________________________________________\n",
            "block8_sepconv3_bn (BatchNormal (None, None, None, 7 2912        block8_sepconv3[0][0]            \n",
            "__________________________________________________________________________________________________\n",
            "add_42 (Add)                    (None, None, None, 7 0           block8_sepconv3_bn[0][0]         \n",
            "                                                                 add_41[0][0]                     \n",
            "__________________________________________________________________________________________________\n",
            "block9_sepconv1_act (Activation (None, None, None, 7 0           add_42[0][0]                     \n",
            "__________________________________________________________________________________________________\n",
            "block9_sepconv1 (SeparableConv2 (None, None, None, 7 536536      block9_sepconv1_act[0][0]        \n",
            "__________________________________________________________________________________________________\n",
            "block9_sepconv1_bn (BatchNormal (None, None, None, 7 2912        block9_sepconv1[0][0]            \n",
            "__________________________________________________________________________________________________\n",
            "block9_sepconv2_act (Activation (None, None, None, 7 0           block9_sepconv1_bn[0][0]         \n",
            "__________________________________________________________________________________________________\n",
            "block9_sepconv2 (SeparableConv2 (None, None, None, 7 536536      block9_sepconv2_act[0][0]        \n",
            "__________________________________________________________________________________________________\n",
            "block9_sepconv2_bn (BatchNormal (None, None, None, 7 2912        block9_sepconv2[0][0]            \n",
            "__________________________________________________________________________________________________\n",
            "block9_sepconv3_act (Activation (None, None, None, 7 0           block9_sepconv2_bn[0][0]         \n",
            "__________________________________________________________________________________________________\n",
            "block9_sepconv3 (SeparableConv2 (None, None, None, 7 536536      block9_sepconv3_act[0][0]        \n",
            "__________________________________________________________________________________________________\n",
            "block9_sepconv3_bn (BatchNormal (None, None, None, 7 2912        block9_sepconv3[0][0]            \n",
            "__________________________________________________________________________________________________\n",
            "add_43 (Add)                    (None, None, None, 7 0           block9_sepconv3_bn[0][0]         \n",
            "                                                                 add_42[0][0]                     \n",
            "__________________________________________________________________________________________________\n",
            "block10_sepconv1_act (Activatio (None, None, None, 7 0           add_43[0][0]                     \n",
            "__________________________________________________________________________________________________\n",
            "block10_sepconv1 (SeparableConv (None, None, None, 7 536536      block10_sepconv1_act[0][0]       \n",
            "__________________________________________________________________________________________________\n",
            "block10_sepconv1_bn (BatchNorma (None, None, None, 7 2912        block10_sepconv1[0][0]           \n",
            "__________________________________________________________________________________________________\n",
            "block10_sepconv2_act (Activatio (None, None, None, 7 0           block10_sepconv1_bn[0][0]        \n",
            "__________________________________________________________________________________________________\n",
            "block10_sepconv2 (SeparableConv (None, None, None, 7 536536      block10_sepconv2_act[0][0]       \n",
            "__________________________________________________________________________________________________\n",
            "block10_sepconv2_bn (BatchNorma (None, None, None, 7 2912        block10_sepconv2[0][0]           \n",
            "__________________________________________________________________________________________________\n",
            "block10_sepconv3_act (Activatio (None, None, None, 7 0           block10_sepconv2_bn[0][0]        \n",
            "__________________________________________________________________________________________________\n",
            "block10_sepconv3 (SeparableConv (None, None, None, 7 536536      block10_sepconv3_act[0][0]       \n",
            "__________________________________________________________________________________________________\n",
            "block10_sepconv3_bn (BatchNorma (None, None, None, 7 2912        block10_sepconv3[0][0]           \n",
            "__________________________________________________________________________________________________\n",
            "add_44 (Add)                    (None, None, None, 7 0           block10_sepconv3_bn[0][0]        \n",
            "                                                                 add_43[0][0]                     \n",
            "__________________________________________________________________________________________________\n",
            "block11_sepconv1_act (Activatio (None, None, None, 7 0           add_44[0][0]                     \n",
            "__________________________________________________________________________________________________\n",
            "block11_sepconv1 (SeparableConv (None, None, None, 7 536536      block11_sepconv1_act[0][0]       \n",
            "__________________________________________________________________________________________________\n",
            "block11_sepconv1_bn (BatchNorma (None, None, None, 7 2912        block11_sepconv1[0][0]           \n",
            "__________________________________________________________________________________________________\n",
            "block11_sepconv2_act (Activatio (None, None, None, 7 0           block11_sepconv1_bn[0][0]        \n",
            "__________________________________________________________________________________________________\n",
            "block11_sepconv2 (SeparableConv (None, None, None, 7 536536      block11_sepconv2_act[0][0]       \n",
            "__________________________________________________________________________________________________\n",
            "block11_sepconv2_bn (BatchNorma (None, None, None, 7 2912        block11_sepconv2[0][0]           \n",
            "__________________________________________________________________________________________________\n",
            "block11_sepconv3_act (Activatio (None, None, None, 7 0           block11_sepconv2_bn[0][0]        \n",
            "__________________________________________________________________________________________________\n",
            "block11_sepconv3 (SeparableConv (None, None, None, 7 536536      block11_sepconv3_act[0][0]       \n",
            "__________________________________________________________________________________________________\n",
            "block11_sepconv3_bn (BatchNorma (None, None, None, 7 2912        block11_sepconv3[0][0]           \n",
            "__________________________________________________________________________________________________\n",
            "add_45 (Add)                    (None, None, None, 7 0           block11_sepconv3_bn[0][0]        \n",
            "                                                                 add_44[0][0]                     \n",
            "__________________________________________________________________________________________________\n",
            "block12_sepconv1_act (Activatio (None, None, None, 7 0           add_45[0][0]                     \n",
            "__________________________________________________________________________________________________\n",
            "block12_sepconv1 (SeparableConv (None, None, None, 7 536536      block12_sepconv1_act[0][0]       \n",
            "__________________________________________________________________________________________________\n",
            "block12_sepconv1_bn (BatchNorma (None, None, None, 7 2912        block12_sepconv1[0][0]           \n",
            "__________________________________________________________________________________________________\n",
            "block12_sepconv2_act (Activatio (None, None, None, 7 0           block12_sepconv1_bn[0][0]        \n",
            "__________________________________________________________________________________________________\n",
            "block12_sepconv2 (SeparableConv (None, None, None, 7 536536      block12_sepconv2_act[0][0]       \n",
            "__________________________________________________________________________________________________\n",
            "block12_sepconv2_bn (BatchNorma (None, None, None, 7 2912        block12_sepconv2[0][0]           \n",
            "__________________________________________________________________________________________________\n",
            "block12_sepconv3_act (Activatio (None, None, None, 7 0           block12_sepconv2_bn[0][0]        \n",
            "__________________________________________________________________________________________________\n",
            "block12_sepconv3 (SeparableConv (None, None, None, 7 536536      block12_sepconv3_act[0][0]       \n",
            "__________________________________________________________________________________________________\n",
            "block12_sepconv3_bn (BatchNorma (None, None, None, 7 2912        block12_sepconv3[0][0]           \n",
            "__________________________________________________________________________________________________\n",
            "add_46 (Add)                    (None, None, None, 7 0           block12_sepconv3_bn[0][0]        \n",
            "                                                                 add_45[0][0]                     \n",
            "__________________________________________________________________________________________________\n",
            "block13_sepconv1_act (Activatio (None, None, None, 7 0           add_46[0][0]                     \n",
            "__________________________________________________________________________________________________\n",
            "block13_sepconv1 (SeparableConv (None, None, None, 7 536536      block13_sepconv1_act[0][0]       \n",
            "__________________________________________________________________________________________________\n",
            "block13_sepconv1_bn (BatchNorma (None, None, None, 7 2912        block13_sepconv1[0][0]           \n",
            "__________________________________________________________________________________________________\n",
            "block13_sepconv2_act (Activatio (None, None, None, 7 0           block13_sepconv1_bn[0][0]        \n",
            "__________________________________________________________________________________________________\n",
            "block13_sepconv2 (SeparableConv (None, None, None, 1 752024      block13_sepconv2_act[0][0]       \n",
            "__________________________________________________________________________________________________\n",
            "block13_sepconv2_bn (BatchNorma (None, None, None, 1 4096        block13_sepconv2[0][0]           \n",
            "__________________________________________________________________________________________________\n",
            "conv2d_15 (Conv2D)              (None, None, None, 1 745472      add_46[0][0]                     \n",
            "__________________________________________________________________________________________________\n",
            "block13_pool (MaxPooling2D)     (None, None, None, 1 0           block13_sepconv2_bn[0][0]        \n",
            "__________________________________________________________________________________________________\n",
            "batch_normalization_15 (BatchNo (None, None, None, 1 4096        conv2d_15[0][0]                  \n",
            "__________________________________________________________________________________________________\n",
            "add_47 (Add)                    (None, None, None, 1 0           block13_pool[0][0]               \n",
            "                                                                 batch_normalization_15[0][0]     \n",
            "__________________________________________________________________________________________________\n",
            "block14_sepconv1 (SeparableConv (None, None, None, 1 1582080     add_47[0][0]                     \n",
            "__________________________________________________________________________________________________\n",
            "block14_sepconv1_bn (BatchNorma (None, None, None, 1 6144        block14_sepconv1[0][0]           \n",
            "__________________________________________________________________________________________________\n",
            "block14_sepconv1_act (Activatio (None, None, None, 1 0           block14_sepconv1_bn[0][0]        \n",
            "__________________________________________________________________________________________________\n",
            "block14_sepconv2 (SeparableConv (None, None, None, 2 3159552     block14_sepconv1_act[0][0]       \n",
            "__________________________________________________________________________________________________\n",
            "block14_sepconv2_bn (BatchNorma (None, None, None, 2 8192        block14_sepconv2[0][0]           \n",
            "__________________________________________________________________________________________________\n",
            "block14_sepconv2_act (Activatio (None, None, None, 2 0           block14_sepconv2_bn[0][0]        \n",
            "__________________________________________________________________________________________________\n",
            "global_max_pooling2d_3 (GlobalM (None, 2048)         0           block14_sepconv2_act[0][0]       \n",
            "__________________________________________________________________________________________________\n",
            "flatten_2 (Flatten)             (None, 2048)         0           global_max_pooling2d_3[0][0]     \n",
            "__________________________________________________________________________________________________\n",
            "dense_3 (Dense)                 (None, 1024)         2098176     flatten_2[0][0]                  \n",
            "__________________________________________________________________________________________________\n",
            "dropout_2 (Dropout)             (None, 1024)         0           dense_3[0][0]                    \n",
            "__________________________________________________________________________________________________\n",
            "dense_4 (Dense)                 (None, 20)           20500       dropout_2[0][0]                  \n",
            "==================================================================================================\n",
            "Total params: 22,980,156\n",
            "Trainable params: 2,118,676\n",
            "Non-trainable params: 20,861,480\n",
            "__________________________________________________________________________________________________\n"
          ],
          "name": "stdout"
        }
      ]
    },
    {
      "cell_type": "code",
      "metadata": {
        "id": "tLvF1yZzRA0F"
      },
      "source": [
        "model.compile(loss=\"categorical_crossentropy\",\n",
        "              optimizer=tf.keras.optimizers.Adam(),\n",
        "              metrics=[\"acc\"])"
      ],
      "execution_count": 13,
      "outputs": []
    },
    {
      "cell_type": "code",
      "metadata": {
        "id": "SSR8Y85FREug"
      },
      "source": [
        "class myCallback(tf.keras.callbacks.Callback):\n",
        "        # Your Code\n",
        "        def on_epoch_end(self, epoch, logs={}):\n",
        "            if(logs.get('acc')>0.9):\n",
        "                print(\"\\nReached 90% so cancelling training!\")\n",
        "                self.model.stop_training = True\n",
        "\n",
        "callbacks = myCallback()"
      ],
      "execution_count": 14,
      "outputs": []
    },
    {
      "cell_type": "code",
      "metadata": {
        "colab": {
          "base_uri": "https://localhost:8080/"
        },
        "id": "NhQ80CeMXd9Y",
        "outputId": "d52015c9-aec0-4484-e04e-03883e9a270a"
      },
      "source": [
        "history = model.fit(train_generator, validation_data=validation_generator, epochs=500, steps_per_epoch=15, callbacks=[callbacks])"
      ],
      "execution_count": 15,
      "outputs": [
        {
          "output_type": "stream",
          "text": [
            "Epoch 1/500\n",
            "15/15 [==============================] - 284s 19s/step - loss: 4.5858 - acc: 0.1396 - val_loss: 2.9216 - val_acc: 0.2500\n",
            "Epoch 2/500\n",
            "15/15 [==============================] - 147s 10s/step - loss: 2.7345 - acc: 0.2708 - val_loss: 2.5551 - val_acc: 0.3250\n",
            "Epoch 3/500\n",
            "15/15 [==============================] - 138s 9s/step - loss: 2.3332 - acc: 0.3742 - val_loss: 2.3577 - val_acc: 0.3583\n",
            "Epoch 4/500\n",
            "15/15 [==============================] - 138s 9s/step - loss: 2.1426 - acc: 0.4101 - val_loss: 2.3283 - val_acc: 0.4167\n",
            "Epoch 5/500\n",
            "15/15 [==============================] - 139s 9s/step - loss: 1.9659 - acc: 0.4771 - val_loss: 2.3292 - val_acc: 0.4000\n",
            "Epoch 6/500\n",
            "15/15 [==============================] - 140s 9s/step - loss: 1.9531 - acc: 0.4708 - val_loss: 2.1561 - val_acc: 0.4458\n",
            "Epoch 7/500\n",
            "15/15 [==============================] - 147s 10s/step - loss: 1.8397 - acc: 0.4926 - val_loss: 2.3059 - val_acc: 0.4000\n",
            "Epoch 8/500\n",
            "15/15 [==============================] - 143s 10s/step - loss: 1.9094 - acc: 0.4863 - val_loss: 2.1195 - val_acc: 0.4250\n",
            "Epoch 9/500\n",
            "15/15 [==============================] - 139s 9s/step - loss: 1.7422 - acc: 0.5307 - val_loss: 2.3046 - val_acc: 0.3792\n",
            "Epoch 10/500\n",
            "15/15 [==============================] - 143s 10s/step - loss: 1.7232 - acc: 0.4968 - val_loss: 2.2619 - val_acc: 0.4125\n",
            "Epoch 11/500\n",
            "15/15 [==============================] - 142s 10s/step - loss: 1.5965 - acc: 0.5180 - val_loss: 2.1232 - val_acc: 0.4292\n",
            "Epoch 12/500\n",
            "15/15 [==============================] - 139s 9s/step - loss: 1.5797 - acc: 0.5793 - val_loss: 2.1087 - val_acc: 0.4000\n",
            "Epoch 13/500\n",
            "15/15 [==============================] - 140s 10s/step - loss: 1.4856 - acc: 0.5899 - val_loss: 2.0814 - val_acc: 0.4292\n",
            "Epoch 14/500\n",
            "15/15 [==============================] - 139s 9s/step - loss: 1.4872 - acc: 0.6047 - val_loss: 2.0996 - val_acc: 0.4042\n",
            "Epoch 15/500\n",
            "15/15 [==============================] - 138s 9s/step - loss: 1.4023 - acc: 0.6237 - val_loss: 2.1409 - val_acc: 0.4542\n",
            "Epoch 16/500\n",
            "15/15 [==============================] - 139s 9s/step - loss: 1.5190 - acc: 0.5854 - val_loss: 2.0590 - val_acc: 0.4458\n",
            "Epoch 17/500\n",
            "15/15 [==============================] - 140s 9s/step - loss: 1.3850 - acc: 0.6167 - val_loss: 2.0916 - val_acc: 0.4167\n",
            "Epoch 18/500\n",
            "15/15 [==============================] - 139s 9s/step - loss: 1.3353 - acc: 0.6152 - val_loss: 2.0496 - val_acc: 0.4625\n",
            "Epoch 19/500\n",
            "15/15 [==============================] - 138s 9s/step - loss: 1.3909 - acc: 0.5941 - val_loss: 2.0006 - val_acc: 0.4458\n",
            "Epoch 20/500\n",
            "15/15 [==============================] - 138s 9s/step - loss: 1.2492 - acc: 0.6702 - val_loss: 2.0787 - val_acc: 0.4208\n",
            "Epoch 21/500\n",
            "15/15 [==============================] - 139s 9s/step - loss: 1.1575 - acc: 0.6702 - val_loss: 2.0901 - val_acc: 0.4458\n",
            "Epoch 22/500\n",
            "15/15 [==============================] - 138s 9s/step - loss: 1.2299 - acc: 0.6765 - val_loss: 1.9724 - val_acc: 0.4583\n",
            "Epoch 23/500\n",
            "15/15 [==============================] - 146s 10s/step - loss: 1.2418 - acc: 0.6438 - val_loss: 2.1057 - val_acc: 0.4417\n",
            "Epoch 24/500\n",
            "15/15 [==============================] - 141s 10s/step - loss: 1.0861 - acc: 0.7167 - val_loss: 2.1177 - val_acc: 0.4292\n",
            "Epoch 25/500\n",
            "15/15 [==============================] - 140s 10s/step - loss: 1.1606 - acc: 0.6913 - val_loss: 2.1717 - val_acc: 0.4000\n",
            "Epoch 26/500\n",
            "15/15 [==============================] - 141s 10s/step - loss: 1.1376 - acc: 0.6729 - val_loss: 1.9144 - val_acc: 0.4708\n",
            "Epoch 27/500\n",
            "15/15 [==============================] - 139s 9s/step - loss: 1.1680 - acc: 0.6575 - val_loss: 1.9882 - val_acc: 0.4625\n",
            "Epoch 28/500\n",
            "15/15 [==============================] - 140s 9s/step - loss: 1.0698 - acc: 0.6998 - val_loss: 2.0956 - val_acc: 0.4417\n",
            "Epoch 29/500\n",
            "15/15 [==============================] - 139s 9s/step - loss: 1.1090 - acc: 0.7167 - val_loss: 1.9925 - val_acc: 0.4500\n",
            "Epoch 30/500\n",
            "15/15 [==============================] - 139s 9s/step - loss: 1.1521 - acc: 0.6786 - val_loss: 2.0533 - val_acc: 0.4458\n",
            "Epoch 31/500\n",
            "15/15 [==============================] - 140s 10s/step - loss: 1.0387 - acc: 0.7292 - val_loss: 2.2374 - val_acc: 0.4083\n",
            "Epoch 32/500\n",
            "15/15 [==============================] - 139s 9s/step - loss: 1.0007 - acc: 0.7294 - val_loss: 2.1468 - val_acc: 0.4333\n",
            "Epoch 33/500\n",
            "15/15 [==============================] - 139s 9s/step - loss: 1.0353 - acc: 0.6956 - val_loss: 2.1024 - val_acc: 0.4792\n",
            "Epoch 34/500\n",
            "15/15 [==============================] - 139s 9s/step - loss: 0.9665 - acc: 0.7336 - val_loss: 2.0397 - val_acc: 0.4417\n",
            "Epoch 35/500\n",
            "15/15 [==============================] - 139s 9s/step - loss: 0.9366 - acc: 0.7484 - val_loss: 2.0749 - val_acc: 0.4542\n",
            "Epoch 36/500\n",
            "15/15 [==============================] - 140s 9s/step - loss: 0.9466 - acc: 0.7357 - val_loss: 2.0064 - val_acc: 0.4625\n",
            "Epoch 37/500\n",
            "15/15 [==============================] - 139s 9s/step - loss: 0.9132 - acc: 0.7505 - val_loss: 2.2332 - val_acc: 0.4542\n",
            "Epoch 38/500\n",
            "15/15 [==============================] - 141s 10s/step - loss: 1.0145 - acc: 0.7312 - val_loss: 1.9960 - val_acc: 0.4583\n",
            "Epoch 39/500\n",
            "15/15 [==============================] - 140s 9s/step - loss: 0.9384 - acc: 0.7019 - val_loss: 2.0319 - val_acc: 0.4542\n",
            "Epoch 40/500\n",
            "15/15 [==============================] - 140s 10s/step - loss: 0.8210 - acc: 0.7708 - val_loss: 2.0538 - val_acc: 0.4500\n",
            "Epoch 41/500\n",
            "15/15 [==============================] - 141s 10s/step - loss: 0.8091 - acc: 0.7917 - val_loss: 2.2665 - val_acc: 0.4375\n",
            "Epoch 42/500\n",
            "15/15 [==============================] - 139s 9s/step - loss: 0.9157 - acc: 0.7526 - val_loss: 2.0455 - val_acc: 0.4875\n",
            "Epoch 43/500\n",
            "15/15 [==============================] - 140s 9s/step - loss: 0.8371 - acc: 0.7928 - val_loss: 2.0604 - val_acc: 0.4583\n",
            "Epoch 44/500\n",
            "15/15 [==============================] - 141s 10s/step - loss: 0.8063 - acc: 0.7667 - val_loss: 2.2968 - val_acc: 0.4500\n",
            "Epoch 45/500\n",
            "15/15 [==============================] - 140s 10s/step - loss: 0.8449 - acc: 0.7604 - val_loss: 2.1979 - val_acc: 0.4458\n",
            "Epoch 46/500\n",
            "15/15 [==============================] - 140s 10s/step - loss: 0.8939 - acc: 0.7400 - val_loss: 2.0849 - val_acc: 0.4583\n",
            "Epoch 47/500\n",
            "15/15 [==============================] - 139s 9s/step - loss: 0.7150 - acc: 0.8245 - val_loss: 2.1633 - val_acc: 0.4542\n",
            "Epoch 48/500\n",
            "15/15 [==============================] - 140s 9s/step - loss: 0.7242 - acc: 0.8118 - val_loss: 2.0688 - val_acc: 0.4292\n",
            "Epoch 49/500\n",
            "15/15 [==============================] - 139s 9s/step - loss: 0.7881 - acc: 0.7844 - val_loss: 2.1185 - val_acc: 0.4583\n",
            "Epoch 50/500\n",
            "15/15 [==============================] - 139s 9s/step - loss: 0.8106 - acc: 0.7505 - val_loss: 2.0573 - val_acc: 0.4583\n",
            "Epoch 51/500\n",
            "15/15 [==============================] - 139s 9s/step - loss: 0.7922 - acc: 0.7780 - val_loss: 2.0834 - val_acc: 0.4792\n",
            "Epoch 52/500\n",
            "15/15 [==============================] - 141s 10s/step - loss: 0.7359 - acc: 0.8188 - val_loss: 2.1555 - val_acc: 0.4458\n",
            "Epoch 53/500\n",
            "15/15 [==============================] - 140s 10s/step - loss: 0.7598 - acc: 0.7958 - val_loss: 2.1565 - val_acc: 0.4625\n",
            "Epoch 54/500\n",
            "15/15 [==============================] - 138s 9s/step - loss: 0.7047 - acc: 0.8224 - val_loss: 2.0440 - val_acc: 0.4792\n",
            "Epoch 55/500\n",
            "15/15 [==============================] - 138s 9s/step - loss: 0.6918 - acc: 0.8182 - val_loss: 1.9988 - val_acc: 0.4833\n",
            "Epoch 56/500\n",
            "15/15 [==============================] - 138s 9s/step - loss: 0.6797 - acc: 0.8309 - val_loss: 2.1410 - val_acc: 0.4417\n",
            "Epoch 57/500\n",
            "15/15 [==============================] - 140s 10s/step - loss: 0.7254 - acc: 0.8146 - val_loss: 2.1600 - val_acc: 0.4958\n",
            "Epoch 58/500\n",
            "15/15 [==============================] - 139s 9s/step - loss: 0.7824 - acc: 0.7928 - val_loss: 2.0308 - val_acc: 0.4958\n",
            "Epoch 59/500\n",
            "15/15 [==============================] - 139s 9s/step - loss: 0.6983 - acc: 0.8062 - val_loss: 2.1701 - val_acc: 0.4667\n",
            "Epoch 60/500\n",
            "15/15 [==============================] - 139s 9s/step - loss: 0.7573 - acc: 0.7865 - val_loss: 2.0157 - val_acc: 0.5125\n",
            "Epoch 61/500\n",
            "15/15 [==============================] - 139s 9s/step - loss: 0.7606 - acc: 0.7907 - val_loss: 2.0752 - val_acc: 0.4750\n",
            "Epoch 62/500\n",
            "15/15 [==============================] - 139s 9s/step - loss: 0.6370 - acc: 0.8245 - val_loss: 2.0873 - val_acc: 0.4917\n",
            "Epoch 63/500\n",
            "15/15 [==============================] - 144s 10s/step - loss: 0.6147 - acc: 0.8414 - val_loss: 2.0822 - val_acc: 0.4583\n",
            "Epoch 64/500\n",
            "15/15 [==============================] - 139s 9s/step - loss: 0.6750 - acc: 0.8055 - val_loss: 2.2498 - val_acc: 0.4833\n",
            "Epoch 65/500\n",
            "15/15 [==============================] - 140s 9s/step - loss: 0.6660 - acc: 0.8288 - val_loss: 2.1988 - val_acc: 0.4625\n",
            "Epoch 66/500\n",
            "15/15 [==============================] - 139s 9s/step - loss: 0.6405 - acc: 0.8414 - val_loss: 2.3869 - val_acc: 0.4250\n",
            "Epoch 67/500\n",
            "15/15 [==============================] - 141s 10s/step - loss: 0.6500 - acc: 0.8182 - val_loss: 2.2934 - val_acc: 0.4500\n",
            "Epoch 68/500\n",
            "15/15 [==============================] - 140s 9s/step - loss: 0.6544 - acc: 0.8203 - val_loss: 2.1572 - val_acc: 0.4708\n",
            "Epoch 69/500\n",
            "15/15 [==============================] - 139s 9s/step - loss: 0.5853 - acc: 0.8414 - val_loss: 2.1592 - val_acc: 0.4875\n",
            "Epoch 70/500\n",
            "15/15 [==============================] - 139s 10s/step - loss: 0.6292 - acc: 0.8351 - val_loss: 2.2201 - val_acc: 0.4542\n",
            "Epoch 71/500\n",
            "15/15 [==============================] - 140s 9s/step - loss: 0.5700 - acc: 0.8330 - val_loss: 2.2524 - val_acc: 0.4667\n",
            "Epoch 72/500\n",
            "15/15 [==============================] - 140s 9s/step - loss: 0.6175 - acc: 0.8436 - val_loss: 2.3360 - val_acc: 0.4750\n",
            "Epoch 73/500\n",
            "15/15 [==============================] - 140s 10s/step - loss: 0.5813 - acc: 0.8520 - val_loss: 2.1542 - val_acc: 0.4792\n",
            "Epoch 74/500\n",
            "15/15 [==============================] - 142s 10s/step - loss: 0.5807 - acc: 0.8458 - val_loss: 2.1616 - val_acc: 0.4792\n",
            "Epoch 75/500\n",
            "15/15 [==============================] - 140s 9s/step - loss: 0.6056 - acc: 0.8541 - val_loss: 2.0833 - val_acc: 0.4792\n",
            "Epoch 76/500\n",
            "15/15 [==============================] - 139s 9s/step - loss: 0.6094 - acc: 0.8414 - val_loss: 2.2061 - val_acc: 0.4875\n",
            "Epoch 77/500\n",
            "15/15 [==============================] - 139s 9s/step - loss: 0.5570 - acc: 0.8774 - val_loss: 2.3254 - val_acc: 0.4208\n",
            "Epoch 78/500\n",
            "15/15 [==============================] - 140s 10s/step - loss: 0.6172 - acc: 0.8414 - val_loss: 2.1262 - val_acc: 0.4750\n",
            "Epoch 79/500\n",
            "15/15 [==============================] - 144s 10s/step - loss: 0.6040 - acc: 0.8500 - val_loss: 2.1966 - val_acc: 0.5042\n",
            "Epoch 80/500\n",
            "15/15 [==============================] - 140s 9s/step - loss: 0.5906 - acc: 0.8393 - val_loss: 2.4184 - val_acc: 0.4292\n",
            "Epoch 81/500\n",
            "15/15 [==============================] - 141s 10s/step - loss: 0.5461 - acc: 0.8750 - val_loss: 2.3019 - val_acc: 0.4583\n",
            "Epoch 82/500\n",
            "15/15 [==============================] - 141s 10s/step - loss: 0.5870 - acc: 0.8436 - val_loss: 2.2414 - val_acc: 0.4708\n",
            "Epoch 83/500\n",
            "15/15 [==============================] - 140s 9s/step - loss: 0.5068 - acc: 0.8541 - val_loss: 2.1506 - val_acc: 0.4708\n",
            "Epoch 84/500\n",
            "15/15 [==============================] - 140s 9s/step - loss: 0.5193 - acc: 0.8795 - val_loss: 2.1108 - val_acc: 0.5083\n",
            "Epoch 85/500\n",
            "15/15 [==============================] - 140s 10s/step - loss: 0.5370 - acc: 0.8667 - val_loss: 2.2432 - val_acc: 0.4792\n",
            "Epoch 86/500\n",
            "15/15 [==============================] - 141s 10s/step - loss: 0.5386 - acc: 0.8646 - val_loss: 2.2902 - val_acc: 0.4958\n",
            "Epoch 87/500\n",
            "15/15 [==============================] - 139s 9s/step - loss: 0.4909 - acc: 0.8816 - val_loss: 2.3556 - val_acc: 0.4625\n",
            "Epoch 88/500\n",
            "15/15 [==============================] - 139s 9s/step - loss: 0.5444 - acc: 0.8457 - val_loss: 2.2460 - val_acc: 0.5042\n",
            "Epoch 89/500\n",
            "15/15 [==============================] - 139s 9s/step - loss: 0.5464 - acc: 0.8541 - val_loss: 2.2284 - val_acc: 0.4917\n",
            "Epoch 90/500\n",
            "15/15 [==============================] - 138s 9s/step - loss: 0.4610 - acc: 0.9006 - val_loss: 2.1969 - val_acc: 0.4750\n",
            "\n",
            "Reached 90% so cancelling training!\n"
          ],
          "name": "stdout"
        }
      ]
    },
    {
      "cell_type": "code",
      "metadata": {
        "id": "uSbJrqHNRLDV",
        "colab": {
          "base_uri": "https://localhost:8080/",
          "height": 573
        },
        "outputId": "a8de0c08-1503-45fe-fa3d-e332b2e0222e"
      },
      "source": [
        "import matplotlib.pyplot as plt\n",
        "\n",
        "# Accuracy plotting\n",
        "plt.plot(history.history['acc'])\n",
        "plt.plot(history.history['val_acc'])\n",
        "plt.title('Akurasi Model')\n",
        "plt.ylabel('accuracy')\n",
        "plt.xlabel('epoch')\n",
        "plt.legend(['train', 'eval'], loc='upper left')\n",
        "plt.show()\n",
        "\n",
        "# Loss plotting\n",
        "plt.plot(history.history['loss'])\n",
        "plt.plot(history.history['val_loss'])\n",
        "plt.title('Loss Model')\n",
        "plt.ylabel('loss')\n",
        "plt.xlabel('epoch')\n",
        "plt.legend(['train', 'eval'], loc='upper left')\n",
        "plt.show()"
      ],
      "execution_count": 16,
      "outputs": [
        {
          "output_type": "display_data",
          "data": {
            "image/png": "[encoded data removed]",
            "text/plain": [
              "<Figure size 432x288 with 1 Axes>"
            ]
          },
          "metadata": {
            "tags": [],
            "needs_background": "light"
          }
        },
        {
          "output_type": "display_data",
          "data": {
            "image/png": "[encoded data removed]",
            "text/plain": [
              "<Figure size 432x288 with 1 Axes>"
            ]
          },
          "metadata": {
            "tags": [],
            "needs_background": "light"
          }
        }
      ]
    },
    {
      "cell_type": "code",
      "metadata": {
        "colab": {
          "base_uri": "https://localhost:8080/"
        },
        "id": "nDyZPVDRi2Hf",
        "outputId": "bfe3407f-9569-47bb-9a95-a5dc715dc231"
      },
      "source": [
        "tf.saved_model.save(model, \"Batik Classification V5 - Xception\")"
      ],
      "execution_count": 17,
      "outputs": [
        {
          "output_type": "stream",
          "text": [
            "/usr/local/lib/python3.7/dist-packages/tensorflow/python/keras/utils/generic_utils.py:497: CustomMaskWarning: Custom mask layers require a config and must override get_config. When loading, the custom mask layer must be passed to the custom_objects argument.\n",
            "  category=CustomMaskWarning)\n"
          ],
          "name": "stderr"
        },
        {
          "output_type": "stream",
          "text": [
            "WARNING:tensorflow:FOR KERAS USERS: The object that you are saving contains one or more Keras models or layers. If you are loading the SavedModel with `tf.keras.models.load_model`, continue reading (otherwise, you may ignore the following instructions). Please change your code to save with `tf.keras.models.save_model` or `model.save`, and confirm that the file \"keras.metadata\" exists in the export directory. In the future, Keras will only load the SavedModels that have this file. In other words, `tf.saved_model.save` will no longer write SavedModels that can be recovered as Keras models (this will apply in TF 2.5).\n",
            "\n",
            "FOR DEVS: If you are overwriting _tracking_metadata in your class, this property has been used to save metadata in the SavedModel. The metadta field will be deprecated soon, so please move the metadata to a different file.\n",
            "INFO:tensorflow:Assets written to: Batik Classification V5 - Xception/assets\n"
          ],
          "name": "stdout"
        }
      ]
    },
    {
      "cell_type": "code",
      "metadata": {
        "colab": {
          "base_uri": "https://localhost:8080/"
        },
        "id": "6mV46PPjljOI",
        "outputId": "05fb8586-2853-4fc0-99ab-01ccda8b9449"
      },
      "source": [
        "!zip -r /content/BatikClassificationV5-Xception.zip /content/BatikClassificationV5-Xception"
      ],
      "execution_count": 23,
      "outputs": [
        {
          "output_type": "stream",
          "text": [
            "  adding: content/BatikClassificationV5-Xception/ (stored 0%)\n",
            "  adding: content/BatikClassificationV5-Xception/saved_model.pb (deflated 92%)\n",
            "  adding: content/BatikClassificationV5-Xception/variables/ (stored 0%)\n",
            "  adding: content/BatikClassificationV5-Xception/variables/variables.data-00000-of-00001 (deflated 11%)\n",
            "  adding: content/BatikClassificationV5-Xception/variables/variables.index (deflated 79%)\n",
            "  adding: content/BatikClassificationV5-Xception/assets/ (stored 0%)\n"
          ],
          "name": "stdout"
        }
      ]
    },
    {
      "cell_type": "code",
      "metadata": {
        "colab": {
          "base_uri": "https://localhost:8080/"
        },
        "id": "RRUO4zlosPvw",
        "outputId": "5aa157de-4938-4b55-db37-e74c3b2c0e96"
      },
      "source": [
        "label = []\n",
        "import os\n",
        "for dirname, _, filenames in os.walk(data_dir):\n",
        "    for filename in filenames:\n",
        "        label.append(os.path.join(dirname, filename).split('/')[-2])\n",
        "\n",
        "labels = np.unique(label)\n",
        "ints = np.arange(0, len(label))\n",
        "dicts = dict(zip(labels, ints))\n",
        "dicts"
      ],
      "execution_count": 19,
      "outputs": [
        {
          "output_type": "execute_result",
          "data": {
            "text/plain": [
              "{'batik-bali': 0,\n",
              " 'batik-betawi': 1,\n",
              " 'batik-celup': 2,\n",
              " 'batik-cendrawasih': 3,\n",
              " 'batik-ceplok': 4,\n",
              " 'batik-ciamis': 5,\n",
              " 'batik-garutan': 6,\n",
              " 'batik-gentongan': 7,\n",
              " 'batik-kawung': 8,\n",
              " 'batik-keraton': 9,\n",
              " 'batik-lasem': 10,\n",
              " 'batik-megamendung': 11,\n",
              " 'batik-parang': 12,\n",
              " 'batik-pekalongan': 13,\n",
              " 'batik-priangan': 14,\n",
              " 'batik-sekar-jagad': 15,\n",
              " 'batik-sidoluhur': 16,\n",
              " 'batik-sidomukti': 17,\n",
              " 'batik-sogan': 18,\n",
              " 'batik-tambal': 19}"
            ]
          },
          "metadata": {
            "tags": []
          },
          "execution_count": 19
        }
      ]
    },
    {
      "cell_type": "code",
      "metadata": {
        "colab": {
          "base_uri": "https://localhost:8080/"
        },
        "id": "f2bV_J-UsRVd",
        "outputId": "cb5ff433-731d-4412-db5e-6eeff72e7192"
      },
      "source": [
        "y_true = validation_generator.classes\n",
        "\n",
        "print(y_true)"
      ],
      "execution_count": 20,
      "outputs": [
        {
          "output_type": "stream",
          "text": [
            "[ 0  0  0  0  0  0  0  0  0  0  0  0  1  1  1  1  1  1  1  1  1  1  1  1\n",
            "  2  2  2  2  2  2  2  2  2  2  2  2  3  3  3  3  3  3  3  3  3  3  3  3\n",
            "  4  4  4  4  4  4  4  4  4  4  4  4  5  5  5  5  5  5  5  5  5  5  5  5\n",
            "  6  6  6  6  6  6  6  6  6  6  6  6  7  7  7  7  7  7  7  7  7  7  7  7\n",
            "  8  8  8  8  8  8  8  8  8  8  8  8  9  9  9  9  9  9  9  9  9  9  9  9\n",
            " 10 10 10 10 10 10 10 10 10 10 10 10 11 11 11 11 11 11 11 11 11 11 11 11\n",
            " 12 12 12 12 12 12 12 12 12 12 12 12 13 13 13 13 13 13 13 13 13 13 13 13\n",
            " 14 14 14 14 14 14 14 14 14 14 14 14 15 15 15 15 15 15 15 15 15 15 15 15\n",
            " 16 16 16 16 16 16 16 16 16 16 16 16 17 17 17 17 17 17 17 17 17 17 17 17\n",
            " 18 18 18 18 18 18 18 18 18 18 18 18 19 19 19 19 19 19 19 19 19 19 19 19]\n"
          ],
          "name": "stdout"
        }
      ]
    },
    {
      "cell_type": "code",
      "metadata": {
        "colab": {
          "base_uri": "https://localhost:8080/"
        },
        "id": "MPozjgOEv6kd",
        "outputId": "68a4d069-c6f4-4f94-8d03-53c2300a65fd"
      },
      "source": [
        "predictions = model.predict(validation_generator)\n",
        "y_pred = np.rint(predictions)\n",
        "y_pred = np.argmax(y_pred, axis=1)\n",
        "\n",
        "print(y_pred)"
      ],
      "execution_count": 21,
      "outputs": [
        {
          "output_type": "stream",
          "text": [
            "[ 0  0  0  7  1 13 13  0  3  0  0 13  1  0  1  1  1  1  1  1  0  0  1  1\n",
            "  0  2  2  2  2  2  2  2  2  2  2  2  0  0  3  0  3  3  7 10  3  0  3 14\n",
            "  8  4  8  0  0 13  0  0  8  4  0  4 13 17  0  5  8  2  1  0  5  3  0  6\n",
            "  5  1  0  0  6  5  0  0  8  6  6  0 13  7  0 18  7  0  0  4  5  7 16  0\n",
            "  8  8  8 17  8  8  8  8  8  8  8  8 10  0 12 12  0  5  1  0  4  0  0  0\n",
            "  0  0 13 10  0  0  5 13  3  7  0  0 11 11 11 11 11 11 11 11 11 11 11 11\n",
            " 12  0 12 12 12 12 12 12 12 12 12 12  0 13  0  0 13  0  5 13  5  7 10  5\n",
            "  0  0  0 14 14 10 12  0  0  0  0  0  0 14  7  0 15 15 19  8 15 15 14 15\n",
            " 16  0 16 16 16  0 16  0 16  7  0 16 18  8  0 17 18  5  0  5  5  0  0  0\n",
            "  7  0  8 18  0 18 17  0 14 18 13 18 19  0  4 19 19 19 19 18  0 19 14  4]\n"
          ],
          "name": "stdout"
        }
      ]
    },
    {
      "cell_type": "code",
      "metadata": {
        "colab": {
          "base_uri": "https://localhost:8080/",
          "height": 577
        },
        "id": "SRiPqwCbwATE",
        "outputId": "b34e45bb-6d50-4baf-a59d-cae27777c869"
      },
      "source": [
        "import seaborn as sns\n",
        "from sklearn.metrics import confusion_matrix, classification_report\n",
        "\n",
        "plt.figure(figsize=(10,8))\n",
        "sns.heatmap(confusion_matrix(y_true, y_pred), annot=True, cmap='GnBu', cbar=False)\n",
        "plt.xticks(ticks=np.arange(0.5, len(list(dicts.keys()))), labels = list(dicts.keys()), rotation=90)\n",
        "plt.yticks(ticks=np.arange(0.5, len(list(dicts.keys()))), labels = list(dicts.keys()), rotation=0)\n",
        "plt.show()"
      ],
      "execution_count": 22,
      "outputs": [
        {
          "output_type": "display_data",
          "data": {
            "image/png": "[encoded data removed]",
            "text/plain": [
              "<Figure size 720x576 with 1 Axes>"
            ]
          },
          "metadata": {
            "tags": [],
            "needs_background": "light"
          }
        }
      ]
    },
    {
      "cell_type": "code",
      "metadata": {
        "colab": {
          "base_uri": "https://localhost:8080/"
        },
        "id": "mqT3Iff2wD1D",
        "outputId": "630c5ede-e2a9-48c6-a32c-1cfa65304725"
      },
      "source": [
        "print(classification_report(y_true, y_pred))"
      ],
      "execution_count": 24,
      "outputs": [
        {
          "output_type": "stream",
          "text": [
            "              precision    recall  f1-score   support\n",
            "\n",
            "           0       0.08      0.50      0.14        12\n",
            "           1       0.69      0.75      0.72        12\n",
            "           2       0.92      0.92      0.92        12\n",
            "           3       0.62      0.42      0.50        12\n",
            "           4       0.43      0.25      0.32        12\n",
            "           5       0.15      0.17      0.16        12\n",
            "           6       0.75      0.25      0.38        12\n",
            "           7       0.30      0.25      0.27        12\n",
            "           8       0.58      0.92      0.71        12\n",
            "           9       0.00      0.00      0.00        12\n",
            "          10       0.20      0.08      0.12        12\n",
            "          11       1.00      1.00      1.00        12\n",
            "          12       0.79      0.92      0.85        12\n",
            "          13       0.25      0.25      0.25        12\n",
            "          14       0.29      0.17      0.21        12\n",
            "          15       1.00      0.42      0.59        12\n",
            "          16       0.88      0.58      0.70        12\n",
            "          17       0.25      0.08      0.12        12\n",
            "          18       0.50      0.33      0.40        12\n",
            "          19       0.86      0.50      0.63        12\n",
            "\n",
            "    accuracy                           0.44       240\n",
            "   macro avg       0.53      0.44      0.45       240\n",
            "weighted avg       0.53      0.44      0.45       240\n",
            "\n"
          ],
          "name": "stdout"
        },
        {
          "output_type": "stream",
          "text": [
            "/usr/local/lib/python3.7/dist-packages/sklearn/metrics/_classification.py:1272: UndefinedMetricWarning: Precision and F-score are ill-defined and being set to 0.0 in labels with no predicted samples. Use `zero_division` parameter to control this behavior.\n",
            "  _warn_prf(average, modifier, msg_start, len(result))\n"
          ],
          "name": "stderr"
        }
      ]
    }
  ]
}